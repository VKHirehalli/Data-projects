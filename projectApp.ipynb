{
  "nbformat": 4,
  "nbformat_minor": 0,
  "metadata": {
    "colab": {
      "provenance": [],
      "authorship_tag": "ABX9TyPhI42HRhqe+blQk2hUVPa5",
      "include_colab_link": true
    },
    "kernelspec": {
      "name": "python3",
      "display_name": "Python 3"
    },
    "language_info": {
      "name": "python"
    }
  },
  "cells": [
    {
      "cell_type": "markdown",
      "metadata": {
        "id": "view-in-github",
        "colab_type": "text"
      },
      "source": [
        "<a href=\"https://colab.research.google.com/github/VKHirehalli/Data-projects/blob/main/projectApp.ipynb\" target=\"_parent\"><img src=\"https://colab.research.google.com/assets/colab-badge.svg\" alt=\"Open In Colab\"/></a>"
      ]
    },
    {
      "cell_type": "markdown",
      "source": [
        "# **Profitable App Profiles for the App Store and Google Play Markets**\n",
        "\n",
        "Our aim in this project is to find mobile app profiles that are profitable for the App Store and Google Play markets. We're working as data analysts for a company that builds Android and iOS mobile apps, and our job is to enable our team of developers to make data-driven decisions with respect to the kind of apps they build.\n",
        "\n",
        "At our company, we only build apps that are free to download and install, and our main source of revenue consists of in-app ads. This means that our revenue for any given app is mostly influenced by the number of users that use our app. Our goal for this project is to analyze data to help our developers understand what kinds of apps are likely to attract more users."
      ],
      "metadata": {
        "id": "7vUkQ17gESDc"
      }
    },
    {
      "cell_type": "code",
      "source": [
        "from csv import reader\n",
        "\n",
        "#The google play data set\n",
        "opened_file = open('googleplaystore.csv')\n",
        "read_file = reader(opened_file)\n",
        "android = list(read_file)\n",
        "android_header = android[0]\n",
        "android = android[1:]\n",
        "\n",
        "#The app store data set\n",
        "opened_file = open('AppleStore.csv')\n",
        "read_file = reader(opened_file)\n",
        "ios = list(read_file)\n",
        "ios_header = ios[0]\n",
        "ios = ios[1:]\n"
      ],
      "metadata": {
        "id": "VBZZzAIJEem5"
      },
      "execution_count": null,
      "outputs": []
    },
    {
      "cell_type": "markdown",
      "source": [
        "To make it more easy to explore the datasets, I will write a function named *explore_data* along with the option to show the number of rows and the columns for any datasets."
      ],
      "metadata": {
        "id": "r420Rjt-Iyb8"
      }
    },
    {
      "cell_type": "code",
      "source": [
        "# def explore_data(dataset, start, end, rows_and_columns=False):\n",
        "#     dataset_slice = dataset[start:end]\n",
        "#     for row in dataset_slice:\n",
        "#         print(row)\n",
        "#         print('\\n') # adds a new (empty) line between rows\n",
        "\n",
        "#     if rows_and_columns:\n",
        "#         print('Number of rows:', len(dataset))\n",
        "#         print('Number of columns:', len(dataset[0]))\n",
        "\n",
        "# print(android_header)\n",
        "# print('\\n')\n",
        "# explore_data(android, 0, 3, True)"
      ],
      "metadata": {
        "colab": {
          "base_uri": "https://localhost:8080/"
        },
        "id": "wXX6cZ2fE-K5",
        "outputId": "1fa6e37a-3bdd-42a7-a30e-36ea6c0b71da"
      },
      "execution_count": null,
      "outputs": [
        {
          "output_type": "stream",
          "name": "stdout",
          "text": [
            "['App', 'Category', 'Rating', 'Reviews', 'Size', 'Installs', 'Type', 'Price', 'Content Rating', 'Genres', 'Last Updated', 'Current Ver', 'Android Ver']\n",
            "\n",
            "\n",
            "['Photo Editor & Candy Camera & Grid & ScrapBook', 'ART_AND_DESIGN', '4.1', '159', '19M', '10,000+', 'Free', '0', 'Everyone', 'Art & Design', 'January 7, 2018', '1.0.0', '4.0.3 and up']\n",
            "\n",
            "\n",
            "['Coloring book moana', 'ART_AND_DESIGN', '3.9', '967', '14M', '500,000+', 'Free', '0', 'Everyone', 'Art & Design;Pretend Play', 'January 15, 2018', '2.0.0', '4.0.3 and up']\n",
            "\n",
            "\n",
            "['U Launcher Lite – FREE Live Cool Themes, Hide Apps', 'ART_AND_DESIGN', '4.7', '87510', '8.7M', '5,000,000+', 'Free', '0', 'Everyone', 'Art & Design', 'August 1, 2018', '1.2.4', '4.0.3 and up']\n",
            "\n",
            "\n",
            "Number of rows: 10841\n",
            "Number of columns: 13\n"
          ]
        }
      ]
    },
    {
      "cell_type": "code",
      "source": [],
      "metadata": {
        "id": "ss3V_CxOLUPb"
      },
      "execution_count": null,
      "outputs": []
    }
  ]
}